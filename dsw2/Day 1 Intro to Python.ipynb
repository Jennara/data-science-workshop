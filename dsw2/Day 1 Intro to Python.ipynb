{
 "cells": [
  {
   "cell_type": "markdown",
   "metadata": {},
   "source": [
    "# Βασικές Μεταβλητές\n",
    "\n",
    "Στην Python δεν δηλώνουμε πουθενά μεταβλητές και τύπους αυτών, μπορούμε ανά πάσα στιγμή να εκχωρήσουμε μια τιμή σε ένα όνομα.\n",
    "\n",
    "Για παράδειγμα, μπορούμε να ορίσουμε τη μεταβλητή year με την τιμή 2017 και να την τυπώσουμε με τη συνάρτηση print(year) ή να τυπώσουμε απευθείας τη χρονιά print(2017)"
   ]
  },
  {
   "cell_type": "code",
   "execution_count": null,
   "metadata": {},
   "outputs": [],
   "source": [
    "print(2017)\n",
    "\n",
    "year = 2017\n",
    "a = 2018\n",
    "print(a)\n",
    "print(year)"
   ]
  },
  {
   "cell_type": "code",
   "execution_count": null,
   "metadata": {},
   "outputs": [],
   "source": [
    "print(year + 1)\n",
    "print(year)"
   ]
  },
  {
   "cell_type": "code",
   "execution_count": null,
   "metadata": {},
   "outputs": [],
   "source": [
    "year = year + 1\n",
    "print(year)\n",
    "print(type(year))"
   ]
  },
  {
   "cell_type": "code",
   "execution_count": null,
   "metadata": {},
   "outputs": [],
   "source": [
    "year = 'δύο χιλιάδες δέκα επτά'\n",
    "print(year)\n",
    "print(type(year))"
   ]
  },
  {
   "cell_type": "code",
   "execution_count": null,
   "metadata": {},
   "outputs": [],
   "source": [
    "h = 'Hello'\n",
    "w = 'World'\n",
    "print(h,w,year)"
   ]
  },
  {
   "cell_type": "markdown",
   "metadata": {},
   "source": [
    "#### Ποια είναι η διαφορά στις δύο επόμενες συναρτήσεις;"
   ]
  },
  {
   "cell_type": "code",
   "execution_count": null,
   "metadata": {},
   "outputs": [],
   "source": [
    "print('Το έτος είναι', year)"
   ]
  },
  {
   "cell_type": "code",
   "execution_count": null,
   "metadata": {},
   "outputs": [],
   "source": [
    "print('Το έτος είναι' + ' ' + year)"
   ]
  },
  {
   "cell_type": "code",
   "execution_count": null,
   "metadata": {},
   "outputs": [],
   "source": [
    "year = 2017\n",
    "print('Το έτος είναι ' + year)"
   ]
  },
  {
   "cell_type": "code",
   "execution_count": null,
   "metadata": {},
   "outputs": [],
   "source": [
    "print('Το έτος είναι ' + str(year))\n",
    "print('Το έτος είναι', year)\n"
   ]
  },
  {
   "cell_type": "markdown",
   "metadata": {},
   "source": [
    "### Int vs Str"
   ]
  },
  {
   "cell_type": "code",
   "execution_count": null,
   "metadata": {},
   "outputs": [],
   "source": [
    "a = 2017\n",
    "b = '2017'\n",
    "c = 2017.0\n",
    "print(type(a))\n",
    "print(type(b))\n",
    "print(type(c))"
   ]
  },
  {
   "cell_type": "code",
   "execution_count": null,
   "metadata": {},
   "outputs": [],
   "source": [
    "print(a + 1)\n",
    "print(int(b) + 1)\n",
    "print(float(b) + 1)"
   ]
  },
  {
   "cell_type": "markdown",
   "metadata": {},
   "source": [
    "\n",
    "# Boolean"
   ]
  },
  {
   "cell_type": "code",
   "execution_count": null,
   "metadata": {},
   "outputs": [],
   "source": [
    "a = True\n",
    "b = False\n",
    "print(a, b)\n",
    "type(a)"
   ]
  },
  {
   "cell_type": "markdown",
   "metadata": {},
   "source": [
    "####  Προσοχή!\n",
    "\n",
    "Οι μεταβλητές Boolean γράφονται πάντα με κεφαλαίο το πρώτο γράμμα. Οι operators που χρησιμοποιούμε είναι:\n",
    "\n",
    "* ==\n",
    "* !=\n",
    "* >\n",
    "* \\>=\n",
    "* <\n",
    "* <=\n",
    "* in"
   ]
  },
  {
   "cell_type": "code",
   "execution_count": null,
   "metadata": {},
   "outputs": [],
   "source": [
    "print(3 == 5)\n",
    "print(3 != 3)"
   ]
  },
  {
   "cell_type": "code",
   "execution_count": null,
   "metadata": {},
   "outputs": [],
   "source": [
    "c = true"
   ]
  },
  {
   "cell_type": "code",
   "execution_count": null,
   "metadata": {},
   "outputs": [],
   "source": [
    "a == True"
   ]
  },
  {
   "cell_type": "code",
   "execution_count": null,
   "metadata": {},
   "outputs": [],
   "source": [
    "a == False"
   ]
  },
  {
   "cell_type": "code",
   "execution_count": null,
   "metadata": {},
   "outputs": [],
   "source": [
    "a == b"
   ]
  },
  {
   "cell_type": "code",
   "execution_count": null,
   "metadata": {},
   "outputs": [],
   "source": [
    "5 > 3"
   ]
  },
  {
   "cell_type": "code",
   "execution_count": null,
   "metadata": {},
   "outputs": [],
   "source": [
    "x = 5\n",
    "x == 3 + 2"
   ]
  },
  {
   "cell_type": "code",
   "execution_count": null,
   "metadata": {},
   "outputs": [],
   "source": [
    "x != 3 + 2"
   ]
  },
  {
   "cell_type": "code",
   "execution_count": null,
   "metadata": {},
   "outputs": [],
   "source": [
    "3 in [1,2,3,4,5]"
   ]
  },
  {
   "cell_type": "markdown",
   "metadata": {},
   "source": [
    "# Μαθηματικές πράξεις\n",
    "\n",
    "Η σειρά των πράξεων είναι ίδια με αυτήν της κλασσικής αριθμητικής"
   ]
  },
  {
   "cell_type": "code",
   "execution_count": null,
   "metadata": {},
   "outputs": [],
   "source": [
    "print((749 + 371 + 828 + 503 + 1379)/5)"
   ]
  },
  {
   "cell_type": "markdown",
   "metadata": {},
   "source": [
    "# Λίστες\n",
    "\n",
    "Οι λίστες της Python έχουν δυναμικό μέγεθος και τα αντικείμενά τους είναι οποιουδήποτε τύπου"
   ]
  },
  {
   "cell_type": "code",
   "execution_count": null,
   "metadata": {},
   "outputs": [],
   "source": [
    "empty_list = []\n",
    "print(empty_list)"
   ]
  },
  {
   "cell_type": "code",
   "execution_count": null,
   "metadata": {},
   "outputs": [],
   "source": [
    "my_list = [2017, 2018, 'μπανάνα', 'data', True]\n",
    "print(my_list)"
   ]
  },
  {
   "cell_type": "code",
   "execution_count": null,
   "metadata": {},
   "outputs": [],
   "source": [
    "type(my_list)"
   ]
  },
  {
   "cell_type": "markdown",
   "metadata": {},
   "source": [
    "#### Το μέγεθος της λίστας το επιστρέφει η συνάρτηση len(my_list)"
   ]
  },
  {
   "cell_type": "code",
   "execution_count": null,
   "metadata": {},
   "outputs": [],
   "source": [
    "print(len(my_list))"
   ]
  },
  {
   "cell_type": "markdown",
   "metadata": {},
   "source": [
    "### Αρίθμηση λίστας\n",
    "\n",
    "Μπορούμε να επιστρέψουμε όποιο στοιχείο θέλουμε από την λίστα χρησιμοποιόντας τη θέση που βρίσκεται σε αυτήν. Προσοχή!!! Η αρίθμηση ξεκινάει από 0 και όχι από 1"
   ]
  },
  {
   "cell_type": "code",
   "execution_count": null,
   "metadata": {},
   "outputs": [],
   "source": [
    "print(my_list[0])\n",
    "print(my_list[2])"
   ]
  },
  {
   "cell_type": "markdown",
   "metadata": {},
   "source": [
    "#### Και αντίστροφα ;)\n",
    "Μπορούμε και ανάποδα ξεκινώντας από το -1"
   ]
  },
  {
   "cell_type": "code",
   "execution_count": null,
   "metadata": {},
   "outputs": [],
   "source": [
    "print(my_list[-1])\n",
    "print(my_list[-4])"
   ]
  },
  {
   "cell_type": "markdown",
   "metadata": {},
   "source": [
    "### Προσθήκη και αφαίρεση στοιχείων από τη λίστα\n",
    "\n",
    "Μπορούμε να προσθέσουμε στο τέλος της λίστας ένα στοιχείο με την εντολή my_list.append(4) ή να αφαιρέσουμε ένα με my_list.remove('μπανάνα')"
   ]
  },
  {
   "cell_type": "code",
   "execution_count": null,
   "metadata": {},
   "outputs": [],
   "source": [
    "my_list.append('true')\n",
    "print(my_list)"
   ]
  },
  {
   "cell_type": "code",
   "execution_count": null,
   "metadata": {},
   "outputs": [],
   "source": [
    "my_list.remove('μπανάνα')\n",
    "print(my_list)"
   ]
  },
  {
   "cell_type": "markdown",
   "metadata": {},
   "source": [
    "### Άσκηση\n",
    "\n",
    "1. Δημιουργήστε 2 κενές λίστες. Η πρώτη να λέγεται cities και η δεύτερη populations\n",
    "2. Με χρήση της append προσθέστε 5 πόλεις της Ελλάδας\n",
    "3. Αφού βρείτε τον πληθυσμό των πόλεων από τη Wikipedia, συμπληρώστε και τη δεύτερη λίστα με την ίδια σειρά\n",
    "4. Τυπώστε τη δεύτερη πόλη μαζί με τον πληθυσμό της στη μορφή \"Καβάλα: 80000\""
   ]
  },
  {
   "cell_type": "code",
   "execution_count": null,
   "metadata": {},
   "outputs": [],
   "source": [
    "# Η λύση της άσκησης"
   ]
  },
  {
   "cell_type": "markdown",
   "metadata": {},
   "source": [
    "### Υπολίστες\n",
    "\n",
    "Μπορούμε να επιλέξουμε οποιοδήποτε κομμάτι της λίστας. Όχι μόνο ένα στοιχείο όπως προηγουμένως, αλλά πολλά μαζί."
   ]
  },
  {
   "cell_type": "code",
   "execution_count": null,
   "metadata": {},
   "outputs": [],
   "source": [
    "print(my_list)\n",
    "my_list[0:3]"
   ]
  },
  {
   "cell_type": "markdown",
   "metadata": {},
   "source": [
    "#### Προσοχή!\n",
    "\n",
    "Το τελευταίο στοιχείο λείπει! Έχουν επιστραφεί τα στοιχεία στις θέσεις 0, 1 και 2."
   ]
  },
  {
   "cell_type": "code",
   "execution_count": null,
   "metadata": {},
   "outputs": [],
   "source": [
    "my_list[:3]"
   ]
  },
  {
   "cell_type": "code",
   "execution_count": null,
   "metadata": {},
   "outputs": [],
   "source": [
    "my_list[3:]"
   ]
  },
  {
   "cell_type": "markdown",
   "metadata": {},
   "source": [
    "### Λίστες μέσα σε λίστες"
   ]
  },
  {
   "cell_type": "code",
   "execution_count": null,
   "metadata": {},
   "outputs": [],
   "source": [
    "list_of_lists = [\n",
    "    [1,2,3],\n",
    "    [4,5,6],\n",
    "    [7,8,9]\n",
    "]\n",
    "print(list_of_lists)"
   ]
  },
  {
   "cell_type": "code",
   "execution_count": null,
   "metadata": {},
   "outputs": [],
   "source": [
    "type(list_of_lists)"
   ]
  },
  {
   "cell_type": "code",
   "execution_count": null,
   "metadata": {},
   "outputs": [],
   "source": [
    "print(list_of_lists[0][1])"
   ]
  },
  {
   "cell_type": "markdown",
   "metadata": {},
   "source": [
    "### Split & Join"
   ]
  },
  {
   "cell_type": "code",
   "execution_count": null,
   "metadata": {},
   "outputs": [],
   "source": [
    "years = '2017,2018,2019,2020'\n",
    "years.split(\".\")"
   ]
  },
  {
   "cell_type": "code",
   "execution_count": null,
   "metadata": {},
   "outputs": [],
   "source": [
    "another_list = ['Hello', 'World']\n",
    "' and '.join(another_list)"
   ]
  },
  {
   "cell_type": "markdown",
   "metadata": {},
   "source": [
    "### Άνοιγμα αρχείων\n",
    "\n",
    "Τα αρχεία τα ανοίγουμε με την εντολή open(file, \"r\"). Το \"r\" δηλώνει ότι πρόκειται μόνο για read. Αν είχε \"w\" θα είχαμε δικαιώματα για να γράψουμε και στο αρχείο νέα δεδομένα. Αφού ανοίξουμε το αρχείο, για να μπορούμε να το επεξεργαστούμε, πρέπει να το \"διαβάσουμε\""
   ]
  },
  {
   "cell_type": "code",
   "execution_count": null,
   "metadata": {},
   "outputs": [],
   "source": [
    "f = open(\"crime_rates.csv\", \"r\")\n",
    "data = f.read()\n",
    "print(data)"
   ]
  },
  {
   "cell_type": "code",
   "execution_count": null,
   "metadata": {},
   "outputs": [],
   "source": [
    "print('a \\nb')"
   ]
  },
  {
   "cell_type": "code",
   "execution_count": null,
   "metadata": {},
   "outputs": [],
   "source": [
    "rows = data.split('\\n')\n",
    "print(rows[0:5])"
   ]
  },
  {
   "cell_type": "markdown",
   "metadata": {},
   "source": [
    "### For Loop"
   ]
  },
  {
   "cell_type": "code",
   "execution_count": null,
   "metadata": {},
   "outputs": [],
   "source": [
    "ten_rows = rows[0:10]\n",
    "for row in ten_rows:\n",
    "    print(row)"
   ]
  },
  {
   "cell_type": "code",
   "execution_count": null,
   "metadata": {},
   "outputs": [],
   "source": [
    "for i in range(len(rows)):\n",
    "    print(rows[i])"
   ]
  },
  {
   "cell_type": "markdown",
   "metadata": {},
   "source": [
    "### Range\n",
    "\n",
    "Με την εντολή range μπορώ να έχω μία λίστα αριθμών με το εύρος και βήμα που ορίζω εγώ"
   ]
  },
  {
   "cell_type": "code",
   "execution_count": null,
   "metadata": {},
   "outputs": [],
   "source": [
    "for i in range(10):\n",
    "    print(i,end=',')"
   ]
  },
  {
   "cell_type": "code",
   "execution_count": null,
   "metadata": {},
   "outputs": [],
   "source": [
    "for j in range(5,10):\n",
    "    print(j,end=',')"
   ]
  },
  {
   "cell_type": "code",
   "execution_count": null,
   "metadata": {},
   "outputs": [],
   "source": [
    "for k in range(0,10,2):\n",
    "    print(k,end=',')"
   ]
  },
  {
   "cell_type": "markdown",
   "metadata": {},
   "source": [
    "\n",
    "\n",
    "### Άσκηση\n",
    "\n",
    "Να βρεθεί ο 15ος αριθμός Fibonacci αν γνωρίζετε ότι ο 1ος και 2ος είναι ίσος με 1 και κάθε επόμενος προκύπτει από το άθροισμα των δύο προηγούμενων"
   ]
  },
  {
   "cell_type": "code",
   "execution_count": null,
   "metadata": {},
   "outputs": [],
   "source": [
    "#λύση της άσκησης"
   ]
  },
  {
   "cell_type": "markdown",
   "metadata": {},
   "source": [
    "### Υπολίστες"
   ]
  },
  {
   "cell_type": "code",
   "execution_count": null,
   "metadata": {},
   "outputs": [],
   "source": [
    "crimes = []\n",
    "for row in rows:\n",
    "    split_list = row.split(',')\n",
    "    crimes.append(split_list)\n",
    "print(crimes[:5])"
   ]
  },
  {
   "cell_type": "markdown",
   "metadata": {},
   "source": [
    "Η υπολίστα με την πόλη Atlanta είναι στη θέση 4. Οπότε αν θέλουμε να τυπώσουμε την τιμή 1379, πρέπει πρώτα να πάρουμε την υπολίστα και μετά το δεύτερο στοιχείο από αυτήν."
   ]
  },
  {
   "cell_type": "code",
   "execution_count": null,
   "metadata": {},
   "outputs": [],
   "source": [
    "print(crimes[4][0])\n",
    "print(crimes[4][1])"
   ]
  },
  {
   "cell_type": "markdown",
   "metadata": {},
   "source": [
    "### If statements\n",
    "\n",
    "Όταν θέλω να συγκρίνω δύο μεταβλητές, χρησιμοποιώ την If, else"
   ]
  },
  {
   "cell_type": "code",
   "execution_count": null,
   "metadata": {},
   "outputs": [],
   "source": [
    "my_favourite_fruit = \"orange\"\n",
    "\n",
    "if my_favourite_fruit == \"apple\":\n",
    "    print('You are lucky')"
   ]
  },
  {
   "cell_type": "code",
   "execution_count": null,
   "metadata": {},
   "outputs": [],
   "source": [
    "my_favourite_fruit = \"apple\"\n",
    "\n",
    "if my_favourite_fruit == \"orange\":\n",
    "    print('You are lucky')\n",
    "else:\n",
    "    print('Damn...')"
   ]
  },
  {
   "cell_type": "code",
   "execution_count": null,
   "metadata": {},
   "outputs": [],
   "source": [
    "grade = 65\n",
    "if grade > 90:\n",
    "    print('Well done')\n",
    "elif grade > 80:\n",
    "    print('Μπορείς και καλύτερα')\n",
    "elif grade > 70:\n",
    "    print('Θες βελτίωση')\n",
    "else:\n",
    "    print('Δυστυχώς ξανά προσπάθησε')"
   ]
  },
  {
   "cell_type": "markdown",
   "metadata": {},
   "source": [
    "### Άσκηση\n",
    "\n",
    "Να βρεθεί η πόλη με την μεγαλύτερη εγκληματικότητα. Προσοχή στους τύπους μεταβλητών!"
   ]
  },
  {
   "cell_type": "code",
   "execution_count": null,
   "metadata": {},
   "outputs": [],
   "source": [
    "#λύση της άσκησης"
   ]
  },
  {
   "cell_type": "markdown",
   "metadata": {},
   "source": [
    "### Άσκηση\n",
    "\n",
    "1. Να βρεθεί dataset με όλες τις πόλεις και τον πληθυσμό τους\n",
    "2. Να βρεθεί η πόλη με τον μικρότερο πληθυσμό"
   ]
  },
  {
   "cell_type": "code",
   "execution_count": 1,
   "metadata": {},
   "outputs": [
    {
     "name": "stdout",
     "output_type": "stream",
     "text": [
      "Fortin Falcon -99.0\n"
     ]
    }
   ],
   "source": [
    "g = open(\"populations.csv\", \"r\", encoding=\"utf8\")\n",
    "data = g.read().split('\\n')\n",
    "smallest_city = ''\n",
    "smallest_pop = False\n",
    "for row in data[1:-2]:\n",
    "    city = row.split(',')\n",
    "    if float(city[4]) < smallest_pop:\n",
    "        smallest_pop = float(city[4])\n",
    "        smallest_city = city[0]\n",
    "print(smallest_city, smallest_pop)"
   ]
  },
  {
   "cell_type": "markdown",
   "metadata": {},
   "source": [
    "## Πικρή Αλήθεια\n",
    "\n",
    "Το μεγαλύτερο ποσοστό των dataset περιέχουν λάθη που πρέπει εμείς να βρούμε και να αποφασίσουμε τι θα τα κάνουμε :("
   ]
  },
  {
   "cell_type": "markdown",
   "metadata": {},
   "source": [
    "## Λεξικά\n",
    "\n",
    "Μια άλλη μορφή δεδομένων είναι τα Λεξικά (Dictionaries) και χρησιμοποιούνται για να βρίσκουμε εύκολα ένα αντικείμενο με βάση κάποιο κλειδί"
   ]
  },
  {
   "cell_type": "code",
   "execution_count": null,
   "metadata": {},
   "outputs": [],
   "source": [
    "dictionary = {}\n",
    "dictionary[1] = 'one'\n",
    "dictionary['a_list'] = [1,2,3,4]\n",
    "dictionary['a_boolean'] = True\n",
    "dictionary['a_number'] = 5\n",
    "print(dictionary)\n",
    "print(dictionary['a_boolean'])"
   ]
  },
  {
   "cell_type": "code",
   "execution_count": null,
   "metadata": {},
   "outputs": [],
   "source": [
    "f = open(\"crime_rates.csv\", \"r\")\n",
    "data = f.read().split('\\n')\n",
    "cities = {}\n",
    "for row in data:\n",
    "    city = row.split(',')\n",
    "    cities[city[0]] = city[1]\n",
    "    \n",
    "sorted(cities.items(), key=lambda x:x[1])"
   ]
  },
  {
   "cell_type": "code",
   "execution_count": null,
   "metadata": {},
   "outputs": [],
   "source": [
    "'Boston' in cities\n",
    "print(cities['Boston'])"
   ]
  },
  {
   "cell_type": "code",
   "execution_count": null,
   "metadata": {},
   "outputs": [],
   "source": [
    "'Thessaloniki' in cities\n",
    "print(cities['Thessaloniki'])"
   ]
  },
  {
   "cell_type": "code",
   "execution_count": null,
   "metadata": {},
   "outputs": [],
   "source": [
    "the_list = [1,5,2,6,7,3,2,4,6,8,9,3,2,6,8,9,5,4,3,4,6,8,9,5,4]\n",
    "numbers = {}\n",
    "for i in the_list:\n",
    "    if i in numbers:\n",
    "        numbers[i] += 1\n",
    "    else:\n",
    "        numbers[i] = 1\n",
    "print(numbers)"
   ]
  },
  {
   "cell_type": "markdown",
   "metadata": {},
   "source": [
    "## Συναρτήσεις\n",
    "\n",
    "Πάντα προσπαθούμε να σπάσουμε τον κώδικά μας σε συναρτήσεις. Όσο μεγαλώνει το project, θα γίνεται όλο και πιο δύσκολη η συντήρηση και οι αλλαγές που θα θέλουμε να κάνουμε."
   ]
  },
  {
   "cell_type": "code",
   "execution_count": null,
   "metadata": {},
   "outputs": [],
   "source": [
    "def my_function(a, b = 5):\n",
    "    if a > 0:\n",
    "        b = a + b\n",
    "    else:\n",
    "        b = -3 * a + b\n",
    "    return b\n",
    "\n",
    "r1 = my_function(5)\n",
    "r2 = my_function(-5)\n",
    "r3 = my_function(5,10)\n",
    "print(r1, r2, r3)"
   ]
  },
  {
   "cell_type": "markdown",
   "metadata": {},
   "source": [
    "### Άσκηση\n",
    "\n",
    "Να γραφτεί συνάρτηση που θα δέχεται λίστα και θα επιστρέφει το μέγιστο. Για ευκολία, θεωρούμε ότι η λίστα θα περιέχει μόνο αριθμούς."
   ]
  },
  {
   "cell_type": "code",
   "execution_count": null,
   "metadata": {},
   "outputs": [],
   "source": [
    "def max_of_list(my_list):\n",
    "    #λύση της άσκησης\n",
    "\n",
    "max_of_list([0,1,2,3,4,5,6,7,8,100])\n"
   ]
  },
  {
   "cell_type": "code",
   "execution_count": null,
   "metadata": {},
   "outputs": [],
   "source": [
    "max([0,1,2,3,4,5,6,7,8,100])"
   ]
  },
  {
   "cell_type": "code",
   "execution_count": null,
   "metadata": {},
   "outputs": [],
   "source": [
    "def my_print():\n",
    "    print('Καλημέρα')\n",
    "\n",
    "my_print()"
   ]
  },
  {
   "cell_type": "code",
   "execution_count": null,
   "metadata": {},
   "outputs": [],
   "source": [
    "def my_message(message=\"Καλημέρα\"):\n",
    "    print(message)\n",
    "my_message('Golden Gate Pro')"
   ]
  }
 ],
 "metadata": {
  "kernelspec": {
   "display_name": "Python 3",
   "language": "python",
   "name": "python3"
  },
  "language_info": {
   "codemirror_mode": {
    "name": "ipython",
    "version": 3
   },
   "file_extension": ".py",
   "mimetype": "text/x-python",
   "name": "python",
   "nbconvert_exporter": "python",
   "pygments_lexer": "ipython3",
   "version": "3.6.3"
  }
 },
 "nbformat": 4,
 "nbformat_minor": 2
}
