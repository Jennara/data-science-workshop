{
 "cells": [
  {
   "cell_type": "markdown",
   "metadata": {},
   "source": [
    "## Γιατί λίστες\n",
    "\n",
    "1. Μπορούν να περιέχουν διαφορετικά είδη δεδομένων (αριθμούς, χαρακτήρες κτλ)\n",
    "2. Το μέγεθός τους είναι δυναμικό\n",
    "\n",
    "## Γιατί όχι λίστες\n",
    "\n",
    "1. Λόγω των παραπάνω, καταναλώνουν πολύ μνήμη\n",
    "2. Δεν μπορούν να αντεπεξέλθουν σε μεγάλα σύνολα δεδομένων"
   ]
  },
  {
   "cell_type": "code",
   "execution_count": 79,
   "metadata": {},
   "outputs": [
    {
     "name": "stdout",
     "output_type": "stream",
     "text": [
      "[10 20 30]\n",
      "[[ 5 10 15]\n",
      " [20 25 30]\n",
      " [35 40 45]]\n"
     ]
    }
   ],
   "source": [
    "import numpy as np\n",
    "vector = np.array([10, 20, 30])\n",
    "matrix = np.array([[5, 10, 15], [20, 25, 30], [35, 40, 45]])\n",
    "print(vector)\n",
    "print(matrix)"
   ]
  },
  {
   "cell_type": "markdown",
   "metadata": {},
   "source": [
    "### shape\n",
    "\n",
    "Μπορούμε εύκολα να βρούμε το μέγεθος ενός ndarray με τη χρήση της shape"
   ]
  },
  {
   "cell_type": "code",
   "execution_count": 80,
   "metadata": {},
   "outputs": [
    {
     "data": {
      "text/plain": [
       "(3,)"
      ]
     },
     "execution_count": 80,
     "metadata": {},
     "output_type": "execute_result"
    }
   ],
   "source": [
    "vector.shape"
   ]
  },
  {
   "cell_type": "code",
   "execution_count": 81,
   "metadata": {},
   "outputs": [
    {
     "data": {
      "text/plain": [
       "(3, 3)"
      ]
     },
     "execution_count": 81,
     "metadata": {},
     "output_type": "execute_result"
    }
   ],
   "source": [
    "matrix.shape"
   ]
  },
  {
   "cell_type": "code",
   "execution_count": 82,
   "metadata": {},
   "outputs": [],
   "source": [
    "births = np.genfromtxt(\"births.csv\", delimiter=\",\")"
   ]
  },
  {
   "cell_type": "code",
   "execution_count": 83,
   "metadata": {},
   "outputs": [
    {
     "name": "stdout",
     "output_type": "stream",
     "text": [
      "[[             nan              nan              nan              nan\n",
      "               nan]\n",
      " [  1.99400000e+03   1.00000000e+00   1.00000000e+00   6.00000000e+00\n",
      "    8.09600000e+03]\n",
      " [  1.99400000e+03   1.00000000e+00   2.00000000e+00   7.00000000e+00\n",
      "    7.77200000e+03]\n",
      " ..., \n",
      " [  2.00300000e+03   1.20000000e+01   2.90000000e+01   1.00000000e+00\n",
      "    1.28230000e+04]\n",
      " [  2.00300000e+03   1.20000000e+01   3.00000000e+01   2.00000000e+00\n",
      "    1.44380000e+04]\n",
      " [  2.00300000e+03   1.20000000e+01   3.10000000e+01   3.00000000e+00\n",
      "    1.23740000e+04]]\n"
     ]
    }
   ],
   "source": [
    "print(births)"
   ]
  },
  {
   "cell_type": "code",
   "execution_count": 84,
   "metadata": {
    "collapsed": true
   },
   "outputs": [],
   "source": [
    "births = np.genfromtxt(\"births.csv\", delimiter=\",\", skip_header=1, dtype =np.int16)"
   ]
  },
  {
   "cell_type": "code",
   "execution_count": 85,
   "metadata": {},
   "outputs": [
    {
     "data": {
      "text/plain": [
       "1"
      ]
     },
     "execution_count": 85,
     "metadata": {},
     "output_type": "execute_result"
    }
   ],
   "source": [
    "births[2,3]"
   ]
  },
  {
   "cell_type": "code",
   "execution_count": 86,
   "metadata": {},
   "outputs": [
    {
     "data": {
      "text/plain": [
       "array([6, 7, 1, ..., 1, 2, 3], dtype=int16)"
      ]
     },
     "execution_count": 86,
     "metadata": {},
     "output_type": "execute_result"
    }
   ],
   "source": [
    "births[:,3]"
   ]
  },
  {
   "cell_type": "code",
   "execution_count": 87,
   "metadata": {},
   "outputs": [
    {
     "data": {
      "text/plain": [
       "array([ 1994,     1,     4,     2, 11248], dtype=int16)"
      ]
     },
     "execution_count": 87,
     "metadata": {},
     "output_type": "execute_result"
    }
   ],
   "source": [
    "births[3,:]"
   ]
  },
  {
   "cell_type": "code",
   "execution_count": 88,
   "metadata": {
    "collapsed": true
   },
   "outputs": [],
   "source": [
    "first_two_columns = births[:,0:2]\n",
    "first_ten_rows = births[0:10,:]"
   ]
  },
  {
   "cell_type": "markdown",
   "metadata": {},
   "source": [
    "## Αναζήτηση  σε ndarray"
   ]
  },
  {
   "cell_type": "code",
   "execution_count": 89,
   "metadata": {},
   "outputs": [
    {
     "data": {
      "text/plain": [
       "array([False,  True, False], dtype=bool)"
      ]
     },
     "execution_count": 89,
     "metadata": {},
     "output_type": "execute_result"
    }
   ],
   "source": [
    "matrix = np.array([[5, 10, 15], [20, 25, 30], [35, 40, 45] ])\n",
    "matrix[0,:] == 10"
   ]
  },
  {
   "cell_type": "code",
   "execution_count": 90,
   "metadata": {},
   "outputs": [
    {
     "name": "stdout",
     "output_type": "stream",
     "text": [
      "[15 20]\n"
     ]
    }
   ],
   "source": [
    "vector = np.array([5, 10, 15, 20])\n",
    "greater_to_ten = (vector > 10)\n",
    "\n",
    "print(vector[greater_to_ten])"
   ]
  },
  {
   "cell_type": "code",
   "execution_count": 91,
   "metadata": {},
   "outputs": [
    {
     "name": "stdout",
     "output_type": "stream",
     "text": [
      "[[ 1994     1     1     6  8096]\n",
      " [ 1994     1     2     7  7772]\n",
      " [ 1994     1     3     1 10142]\n",
      " ..., \n",
      " [ 1994    12    29     4 12189]\n",
      " [ 1994    12    30     5 12051]\n",
      " [ 1994    12    31     6  8809]]\n"
     ]
    }
   ],
   "source": [
    "year_is_1994 = births[:,0] == 1994\n",
    "year_1994 = births[year_is_1994,:]\n",
    "print(year_1994)"
   ]
  },
  {
   "cell_type": "code",
   "execution_count": 92,
   "metadata": {},
   "outputs": [
    {
     "name": "stdout",
     "output_type": "stream",
     "text": [
      "[[ 1994    10     1     6  9351]\n",
      " [ 1995    10     1     7  8545]\n",
      " [ 1996    10     1     2 12851]\n",
      " [ 1997    10     1     3 12161]\n",
      " [ 1998    10     1     4 12410]\n",
      " [ 1999    10     1     5 12544]\n",
      " [ 2000    10     1     7  8279]\n",
      " [ 2001    10     1     1 12109]\n",
      " [ 2002    10     1     2 13296]\n",
      " [ 2003    10     1     3 13138]]\n"
     ]
    }
   ],
   "source": [
    "month_is_10_first = (births[:,1] == 10) & (births[:,2] == 1)\n",
    "month_10 = births[month_is_10_first,:]\n",
    "print(month_10)"
   ]
  },
  {
   "cell_type": "code",
   "execution_count": 93,
   "metadata": {},
   "outputs": [
    {
     "name": "stdout",
     "output_type": "stream",
     "text": [
      "[[ 2020     1     1     6  8096]\n",
      " [ 2020     1     2     7  7772]\n",
      " [ 2020     1     3     1 10142]\n",
      " ..., \n",
      " [ 2003    12    29     1 12823]\n",
      " [ 2003    12    30     2 14438]\n",
      " [ 2003    12    31     3 12374]]\n"
     ]
    }
   ],
   "source": [
    "year_is_1994 = births[:,0] == 1994\n",
    "births[:,0][year_is_1994] = 2020\n",
    "print(births)"
   ]
  },
  {
   "cell_type": "markdown",
   "metadata": {},
   "source": [
    "## Πράξεις σε ndarray"
   ]
  },
  {
   "cell_type": "code",
   "execution_count": 94,
   "metadata": {},
   "outputs": [
    {
     "data": {
      "text/plain": [
       "50"
      ]
     },
     "execution_count": 94,
     "metadata": {},
     "output_type": "execute_result"
    }
   ],
   "source": [
    "vector = np.array([5, 10, 15, 20])\n",
    "vector.sum()"
   ]
  },
  {
   "cell_type": "markdown",
   "metadata": {},
   "source": [
    "Βάζοντας την παράμετρο axis στο sum, μπορούμε να πάρουμε για 1 το άθροισμα των γραμμών και για 0 το άθροισμα των στηλών"
   ]
  },
  {
   "cell_type": "code",
   "execution_count": 95,
   "metadata": {},
   "outputs": [
    {
     "data": {
      "text/plain": [
       "array([ 30,  75, 120])"
      ]
     },
     "execution_count": 95,
     "metadata": {},
     "output_type": "execute_result"
    }
   ],
   "source": [
    "matrix = np.array([[5, 10, 15], [20, 25, 30],[35, 40, 45]])\n",
    "matrix.sum(axis=1)"
   ]
  },
  {
   "cell_type": "code",
   "execution_count": 96,
   "metadata": {},
   "outputs": [
    {
     "data": {
      "text/plain": [
       "12.5"
      ]
     },
     "execution_count": 96,
     "metadata": {},
     "output_type": "execute_result"
    }
   ],
   "source": [
    "vector.mean()"
   ]
  },
  {
   "cell_type": "code",
   "execution_count": 97,
   "metadata": {},
   "outputs": [
    {
     "data": {
      "text/plain": [
       "array([ 10.,  25.,  40.])"
      ]
     },
     "execution_count": 97,
     "metadata": {},
     "output_type": "execute_result"
    }
   ],
   "source": [
    "matrix.mean(axis=1)"
   ]
  },
  {
   "cell_type": "markdown",
   "metadata": {},
   "source": [
    "### Άσκηση\n",
    "\n",
    "Να βρεθεί το σύνολο των γεννήσεων τη χρονιά 1996 και μήνα Νοέμβριο"
   ]
  }
 ],
 "metadata": {
  "kernelspec": {
   "display_name": "Python 3",
   "language": "python",
   "name": "python3"
  },
  "language_info": {
   "codemirror_mode": {
    "name": "ipython",
    "version": 3
   },
   "file_extension": ".py",
   "mimetype": "text/x-python",
   "name": "python",
   "nbconvert_exporter": "python",
   "pygments_lexer": "ipython3",
   "version": "3.6.2"
  }
 },
 "nbformat": 4,
 "nbformat_minor": 2
}
