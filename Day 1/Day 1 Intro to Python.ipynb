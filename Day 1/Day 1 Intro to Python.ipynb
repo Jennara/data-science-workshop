{
 "cells": [
  {
   "cell_type": "markdown",
   "metadata": {},
   "source": [
    "# Βασικές Μεταβλητές\n",
    "\n",
    "Στην Python δεν δηλώνουμε πουθενά μεταβλητές και τύπους αυτών, μπορούμε ανά πάσα στιγμή να εκχωρήσουμε μια τιμή σε ένα όνομα.\n",
    "\n",
    "Για παράδειγμα, μπορούμε να ορίσουμε τη μεταβλητή year με την τιμή 2017 και να την τυπώσουμε με τη συνάρτηση print(year) ή να τυπώσουμε απευθείας τη χρονιά print(2017)"
   ]
  },
  {
   "cell_type": "code",
   "execution_count": 2,
   "metadata": {},
   "outputs": [
    {
     "name": "stdout",
     "output_type": "stream",
     "text": [
      "2017\n",
      "2018\n",
      "2017\n"
     ]
    }
   ],
   "source": [
    "print(2017)\n",
    "\n",
    "year = 2017\n",
    "a = 2018\n",
    "print(a)\n",
    "print(year)"
   ]
  },
  {
   "cell_type": "code",
   "execution_count": 3,
   "metadata": {},
   "outputs": [
    {
     "name": "stdout",
     "output_type": "stream",
     "text": [
      "2018\n",
      "2017\n"
     ]
    }
   ],
   "source": [
    "print(year + 1)\n",
    "print(year)"
   ]
  },
  {
   "cell_type": "code",
   "execution_count": 4,
   "metadata": {},
   "outputs": [
    {
     "name": "stdout",
     "output_type": "stream",
     "text": [
      "2018\n",
      "<class 'int'>\n"
     ]
    }
   ],
   "source": [
    "year = year + 1\n",
    "print(year)\n",
    "print(type(year))"
   ]
  },
  {
   "cell_type": "code",
   "execution_count": 5,
   "metadata": {},
   "outputs": [
    {
     "name": "stdout",
     "output_type": "stream",
     "text": [
      "δύο χιλιάδες δέκα επτά\n",
      "<class 'str'>\n"
     ]
    }
   ],
   "source": [
    "year = 'δύο χιλιάδες δέκα επτά'\n",
    "print(year)\n",
    "print(type(year))"
   ]
  },
  {
   "cell_type": "code",
   "execution_count": 8,
   "metadata": {},
   "outputs": [
    {
     "name": "stdout",
     "output_type": "stream",
     "text": [
      "Hello World δύο χιλιάδες δέκα επτά\n"
     ]
    }
   ],
   "source": [
    "h = 'Hello'\n",
    "w = 'World'\n",
    "print(h,w,year)"
   ]
  },
  {
   "cell_type": "markdown",
   "metadata": {},
   "source": [
    "#### Ποια είναι η διαφορά στις δύο επόμενες συναρτήσεις;"
   ]
  },
  {
   "cell_type": "code",
   "execution_count": 9,
   "metadata": {},
   "outputs": [
    {
     "name": "stdout",
     "output_type": "stream",
     "text": [
      "Το έτος είναι δύο χιλιάδες δέκα επτά\n"
     ]
    }
   ],
   "source": [
    "print('Το έτος είναι', year)"
   ]
  },
  {
   "cell_type": "code",
   "execution_count": 11,
   "metadata": {},
   "outputs": [
    {
     "name": "stdout",
     "output_type": "stream",
     "text": [
      "Το έτος είναι δύο χιλιάδες δέκα επτά\n"
     ]
    }
   ],
   "source": [
    "print('Το έτος είναι' + ' ' + year)"
   ]
  },
  {
   "cell_type": "code",
   "execution_count": 15,
   "metadata": {},
   "outputs": [],
   "source": [
    "year = 2017\n",
    "#print('Το έτος είναι ' + year)"
   ]
  },
  {
   "cell_type": "code",
   "execution_count": 16,
   "metadata": {},
   "outputs": [
    {
     "name": "stdout",
     "output_type": "stream",
     "text": [
      "Το έτος είναι 2017\n",
      "Το έτος είναι 2017\n"
     ]
    }
   ],
   "source": [
    "print('Το έτος είναι ' + str(year))\n",
    "print('Το έτος είναι', year)\n"
   ]
  },
  {
   "cell_type": "markdown",
   "metadata": {},
   "source": [
    "### Int vs Str"
   ]
  },
  {
   "cell_type": "code",
   "execution_count": 18,
   "metadata": {},
   "outputs": [
    {
     "name": "stdout",
     "output_type": "stream",
     "text": [
      "<class 'int'>\n",
      "<class 'str'>\n",
      "<class 'float'>\n"
     ]
    }
   ],
   "source": [
    "a = 2017\n",
    "b = '2017'\n",
    "c = 2017.0\n",
    "print(type(a))\n",
    "print(type(b))\n",
    "print(type(c))"
   ]
  },
  {
   "cell_type": "code",
   "execution_count": 20,
   "metadata": {},
   "outputs": [
    {
     "name": "stdout",
     "output_type": "stream",
     "text": [
      "2018\n",
      "2018\n",
      "2018.0\n"
     ]
    }
   ],
   "source": [
    "print(a + 1)\n",
    "print(int(b) + 1)\n",
    "print(float(b) + 1)"
   ]
  },
  {
   "cell_type": "markdown",
   "metadata": {},
   "source": [
    "\n",
    "# Boolean"
   ]
  },
  {
   "cell_type": "code",
   "execution_count": 21,
   "metadata": {},
   "outputs": [
    {
     "name": "stdout",
     "output_type": "stream",
     "text": [
      "True False\n"
     ]
    },
    {
     "data": {
      "text/plain": [
       "bool"
      ]
     },
     "execution_count": 21,
     "metadata": {},
     "output_type": "execute_result"
    }
   ],
   "source": [
    "a = True\n",
    "b = False\n",
    "print(a, b)\n",
    "type(a)"
   ]
  },
  {
   "cell_type": "markdown",
   "metadata": {},
   "source": [
    "####  Προσοχή!\n",
    "\n",
    "Οι μεταβλητές Boolean γράφονται πάντα με κεφαλαίο το πρώτο γράμμα. Οι operators που χρησιμοποιούμε είναι:\n",
    "\n",
    "* ==\n",
    "* !=\n",
    "* >\n",
    "* \\>=\n",
    "* <\n",
    "* <=\n",
    "* in"
   ]
  },
  {
   "cell_type": "code",
   "execution_count": 23,
   "metadata": {},
   "outputs": [
    {
     "name": "stdout",
     "output_type": "stream",
     "text": [
      "False\n",
      "False\n"
     ]
    }
   ],
   "source": [
    "print(3 == 5)\n",
    "print(3 != 3)"
   ]
  },
  {
   "cell_type": "code",
   "execution_count": null,
   "metadata": {},
   "outputs": [],
   "source": [
    "#c = true"
   ]
  },
  {
   "cell_type": "code",
   "execution_count": 24,
   "metadata": {},
   "outputs": [
    {
     "data": {
      "text/plain": [
       "True"
      ]
     },
     "execution_count": 24,
     "metadata": {},
     "output_type": "execute_result"
    }
   ],
   "source": [
    "a == True"
   ]
  },
  {
   "cell_type": "code",
   "execution_count": null,
   "metadata": {},
   "outputs": [],
   "source": [
    "a == False"
   ]
  },
  {
   "cell_type": "code",
   "execution_count": null,
   "metadata": {},
   "outputs": [],
   "source": [
    "a == b"
   ]
  },
  {
   "cell_type": "code",
   "execution_count": 25,
   "metadata": {},
   "outputs": [
    {
     "data": {
      "text/plain": [
       "True"
      ]
     },
     "execution_count": 25,
     "metadata": {},
     "output_type": "execute_result"
    }
   ],
   "source": [
    "5 > 3"
   ]
  },
  {
   "cell_type": "code",
   "execution_count": 26,
   "metadata": {},
   "outputs": [
    {
     "data": {
      "text/plain": [
       "True"
      ]
     },
     "execution_count": 26,
     "metadata": {},
     "output_type": "execute_result"
    }
   ],
   "source": [
    "x = 5\n",
    "x == 3 + 2"
   ]
  },
  {
   "cell_type": "code",
   "execution_count": null,
   "metadata": {},
   "outputs": [],
   "source": [
    "x != 3 + 2"
   ]
  },
  {
   "cell_type": "code",
   "execution_count": 27,
   "metadata": {},
   "outputs": [
    {
     "data": {
      "text/plain": [
       "True"
      ]
     },
     "execution_count": 27,
     "metadata": {},
     "output_type": "execute_result"
    }
   ],
   "source": [
    "3 in [1,2,3,4,5]"
   ]
  },
  {
   "cell_type": "markdown",
   "metadata": {},
   "source": [
    "# Μαθηματικές πράξεις\n",
    "\n",
    "Η σειρά των πράξεων είναι ίδια με αυτήν της κλασσικής αριθμητικής"
   ]
  },
  {
   "cell_type": "code",
   "execution_count": 28,
   "metadata": {},
   "outputs": [
    {
     "name": "stdout",
     "output_type": "stream",
     "text": [
      "766.0\n"
     ]
    }
   ],
   "source": [
    "print((749 + 371 + 828 + 503 + 1379)/5)"
   ]
  },
  {
   "cell_type": "markdown",
   "metadata": {},
   "source": [
    "# Λίστες\n",
    "\n",
    "Οι λίστες της Python έχουν δυναμικό μέγεθος και τα αντικείμενά τους είναι οποιουδήποτε τύπου"
   ]
  },
  {
   "cell_type": "code",
   "execution_count": 29,
   "metadata": {},
   "outputs": [
    {
     "name": "stdout",
     "output_type": "stream",
     "text": [
      "[]\n"
     ]
    }
   ],
   "source": [
    "empty_list = []\n",
    "print(empty_list)"
   ]
  },
  {
   "cell_type": "code",
   "execution_count": 30,
   "metadata": {},
   "outputs": [
    {
     "name": "stdout",
     "output_type": "stream",
     "text": [
      "[2017, 2018, 'μπανάνα', 'data', True]\n"
     ]
    }
   ],
   "source": [
    "my_list = [2017, 2018, 'μπανάνα', 'data', True]\n",
    "print(my_list)"
   ]
  },
  {
   "cell_type": "code",
   "execution_count": 31,
   "metadata": {},
   "outputs": [
    {
     "data": {
      "text/plain": [
       "list"
      ]
     },
     "execution_count": 31,
     "metadata": {},
     "output_type": "execute_result"
    }
   ],
   "source": [
    "type(my_list)"
   ]
  },
  {
   "cell_type": "markdown",
   "metadata": {},
   "source": [
    "#### Το μέγεθος της λίστας το επιστρέφει η συνάρτηση len(my_list)"
   ]
  },
  {
   "cell_type": "code",
   "execution_count": 32,
   "metadata": {},
   "outputs": [
    {
     "name": "stdout",
     "output_type": "stream",
     "text": [
      "5\n"
     ]
    }
   ],
   "source": [
    "print(len(my_list))"
   ]
  },
  {
   "cell_type": "markdown",
   "metadata": {},
   "source": [
    "### Αρίθμηση λίστας\n",
    "\n",
    "Μπορούμε να επιστρέψουμε όποιο στοιχείο θέλουμε από την λίστα χρησιμοποιόντας τη θέση που βρίσκεται σε αυτήν. Προσοχή!!! Η αρίθμηση ξεκινάει από 0 και όχι από 1"
   ]
  },
  {
   "cell_type": "code",
   "execution_count": 33,
   "metadata": {},
   "outputs": [
    {
     "name": "stdout",
     "output_type": "stream",
     "text": [
      "2017\n",
      "μπανάνα\n"
     ]
    }
   ],
   "source": [
    "print(my_list[0])\n",
    "print(my_list[2])"
   ]
  },
  {
   "cell_type": "markdown",
   "metadata": {},
   "source": [
    "#### Και αντίστροφα ;)\n",
    "Μπορούμε και ανάποδα ξεκινώντας από το -1"
   ]
  },
  {
   "cell_type": "code",
   "execution_count": 34,
   "metadata": {},
   "outputs": [
    {
     "name": "stdout",
     "output_type": "stream",
     "text": [
      "True\n",
      "2018\n"
     ]
    }
   ],
   "source": [
    "print(my_list[-1])\n",
    "print(my_list[-4])"
   ]
  },
  {
   "cell_type": "markdown",
   "metadata": {},
   "source": [
    "### Προσθήκη και αφαίρεση στοιχείων από τη λίστα\n",
    "\n",
    "Μπορούμε να προσθέσουμε στο τέλος της λίστας ένα στοιχείο με την εντολή my_list.append(4) ή να αφαιρέσουμε ένα με my_list.remove('μπανάνα')"
   ]
  },
  {
   "cell_type": "code",
   "execution_count": 38,
   "metadata": {},
   "outputs": [
    {
     "name": "stdout",
     "output_type": "stream",
     "text": [
      "[2017, 2018, 'μπανάνα', 'data', True, 4, 4, 4, 'true']\n"
     ]
    }
   ],
   "source": [
    "my_list.append('true')\n",
    "print(my_list)"
   ]
  },
  {
   "cell_type": "code",
   "execution_count": 39,
   "metadata": {},
   "outputs": [
    {
     "name": "stdout",
     "output_type": "stream",
     "text": [
      "[2017, 2018, 'data', True, 4, 4, 4, 'true']\n"
     ]
    }
   ],
   "source": [
    "my_list.remove('μπανάνα')\n",
    "print(my_list)"
   ]
  },
  {
   "cell_type": "markdown",
   "metadata": {},
   "source": [
    "### Άσκηση\n",
    "\n",
    "1. Δημιουργήστε 2 κενές λίστες. Η πρώτη να λέγεται cities και η δεύτερη populations\n",
    "2. Με χρήση της append προσθέστε 5 πόλεις της Ελλάδας\n",
    "3. Αφού βρείτε τον πληθυσμό των πόλεων από τη Wikipedia, συμπληρώστε και τη δεύτερη λίστα με την ίδια σειρά\n",
    "4. Τυπώστε τη δεύτερη πόλη μαζί με τον πληθυσμό της στη μορφή \"Καβάλα: 80000\""
   ]
  },
  {
   "cell_type": "code",
   "execution_count": null,
   "metadata": {},
   "outputs": [],
   "source": [
    "# Η λύση της άσκησης"
   ]
  },
  {
   "cell_type": "markdown",
   "metadata": {},
   "source": [
    "### Υπολίστες\n",
    "\n",
    "Μπορούμε να επιλέξουμε οποιοδήποτε κομμάτι της λίστας. Όχι μόνο ένα στοιχείο όπως προηγουμένως, αλλά πολλά μαζί."
   ]
  },
  {
   "cell_type": "code",
   "execution_count": 40,
   "metadata": {},
   "outputs": [
    {
     "name": "stdout",
     "output_type": "stream",
     "text": [
      "[2017, 2018, 'data', True, 4, 4, 4, 'true']\n"
     ]
    },
    {
     "data": {
      "text/plain": [
       "[2017, 2018, 'data']"
      ]
     },
     "execution_count": 40,
     "metadata": {},
     "output_type": "execute_result"
    }
   ],
   "source": [
    "print(my_list)\n",
    "my_list[0:3]"
   ]
  },
  {
   "cell_type": "markdown",
   "metadata": {},
   "source": [
    "#### Προσοχή!\n",
    "\n",
    "Το τελευταίο στοιχείο λείπει! Έχουν επιστραφεί τα στοιχεία στις θέσεις 0, 1 και 2."
   ]
  },
  {
   "cell_type": "code",
   "execution_count": 41,
   "metadata": {},
   "outputs": [
    {
     "data": {
      "text/plain": [
       "[2017, 2018, 'data']"
      ]
     },
     "execution_count": 41,
     "metadata": {},
     "output_type": "execute_result"
    }
   ],
   "source": [
    "my_list[:3]"
   ]
  },
  {
   "cell_type": "code",
   "execution_count": 42,
   "metadata": {},
   "outputs": [
    {
     "data": {
      "text/plain": [
       "[True, 4, 4, 4, 'true']"
      ]
     },
     "execution_count": 42,
     "metadata": {},
     "output_type": "execute_result"
    }
   ],
   "source": [
    "my_list[3:]"
   ]
  },
  {
   "cell_type": "markdown",
   "metadata": {},
   "source": [
    "### Λίστες μέσα σε λίστες"
   ]
  },
  {
   "cell_type": "code",
   "execution_count": 43,
   "metadata": {},
   "outputs": [
    {
     "name": "stdout",
     "output_type": "stream",
     "text": [
      "[[1, 2, 3], [4, 5, 6], [7, 8, 9]]\n"
     ]
    }
   ],
   "source": [
    "list_of_lists = [\n",
    "    [1,2,3],\n",
    "    [4,5,6],\n",
    "    [7,8,9]\n",
    "]\n",
    "print(list_of_lists)"
   ]
  },
  {
   "cell_type": "code",
   "execution_count": 44,
   "metadata": {},
   "outputs": [
    {
     "data": {
      "text/plain": [
       "list"
      ]
     },
     "execution_count": 44,
     "metadata": {},
     "output_type": "execute_result"
    }
   ],
   "source": [
    "type(list_of_lists)"
   ]
  },
  {
   "cell_type": "code",
   "execution_count": 46,
   "metadata": {},
   "outputs": [
    {
     "name": "stdout",
     "output_type": "stream",
     "text": [
      "2\n"
     ]
    }
   ],
   "source": [
    "print(list_of_lists[0][1])"
   ]
  },
  {
   "cell_type": "markdown",
   "metadata": {},
   "source": [
    "### Split & Join"
   ]
  },
  {
   "cell_type": "code",
   "execution_count": 49,
   "metadata": {},
   "outputs": [
    {
     "data": {
      "text/plain": [
       "['2017,2018,2019,2020']"
      ]
     },
     "execution_count": 49,
     "metadata": {},
     "output_type": "execute_result"
    }
   ],
   "source": [
    "years = '2017,2018,2019,2020'\n",
    "years.split(\".\")"
   ]
  },
  {
   "cell_type": "code",
   "execution_count": 50,
   "metadata": {},
   "outputs": [
    {
     "data": {
      "text/plain": [
       "'Hello and World'"
      ]
     },
     "execution_count": 50,
     "metadata": {},
     "output_type": "execute_result"
    }
   ],
   "source": [
    "another_list = ['Hello', 'World']\n",
    "' and '.join(another_list)"
   ]
  },
  {
   "cell_type": "markdown",
   "metadata": {},
   "source": [
    "### Άνοιγμα αρχείων\n",
    "\n",
    "Τα αρχεία τα ανοίγουμε με την εντολή open(file, \"r\"). Το \"r\" δηλώνει ότι πρόκειται μόνο για read. Αν είχε \"w\" θα είχαμε δικαιώματα για να γράψουμε και στο αρχείο νέα δεδομένα. Αφού ανοίξουμε το αρχείο, για να μπορούμε να το επεξεργαστούμε, πρέπει να το \"διαβάσουμε\""
   ]
  },
  {
   "cell_type": "code",
   "execution_count": 51,
   "metadata": {},
   "outputs": [
    {
     "name": "stdout",
     "output_type": "stream",
     "text": [
      "Albuquerque,749\n",
      "Anaheim,371\n",
      "Anchorage,828\n",
      "Arlington,503\n",
      "Atlanta,1379\n",
      "Aurora,425\n",
      "Austin,408\n",
      "Bakersfield,542\n",
      "Baltimore,1405\n",
      "Boston,835\n",
      "Buffalo,1288\n",
      "Charlotte-Mecklenburg,647\n",
      "Cincinnati,974\n",
      "Cleveland,1383\n",
      "Colorado Springs,455\n",
      "Corpus Christi,658\n",
      "Dallas,675\n",
      "Denver,615\n",
      "Detroit,2122\n",
      "El Paso,423\n",
      "Fort Wayne,362\n",
      "Fort Worth,587\n",
      "Fresno,543\n",
      "Greensboro,563\n",
      "Henderson,168\n",
      "Houston,992\n",
      "Indianapolis,1185\n",
      "Jacksonville,617\n",
      "Jersey City,734\n",
      "Kansas City,1263\n",
      "Las Vegas,784\n",
      "Lexington,352\n",
      "Lincoln,397\n",
      "Long Beach,575\n",
      "Los Angeles,481\n",
      "Louisville Metro,598\n",
      "Memphis,1750\n",
      "Mesa,399\n",
      "Miami,1172\n",
      "Milwaukee,1294\n",
      "Minneapolis,992\n",
      "Mobile,522\n",
      "Nashville,1216\n",
      "New Orleans,815\n",
      "New York,639\n",
      "Newark,1154\n",
      "Oakland,1993\n",
      "Oklahoma City,919\n",
      "Omaha,594\n",
      "Philadelphia,1160\n",
      "Phoenix,636\n",
      "Pittsburgh,752\n",
      "Plano,130\n",
      "Portland,517\n",
      "Raleigh,423\n",
      "Riverside,443\n",
      "Sacramento,738\n",
      "San Antonio,503\n",
      "San Diego,413\n",
      "San Francisco,704\n",
      "San Jose,363\n",
      "Santa Ana,401\n",
      "Seattle,597\n",
      "St. Louis,1776\n",
      "St. Paul,722\n",
      "Stockton,1548\n",
      "Tampa,616\n",
      "Toledo,1171\n",
      "Tucson,724\n",
      "Tulsa,990\n",
      "Virginia Beach,169\n",
      "Washington,1177\n",
      "Wichita,742\n"
     ]
    }
   ],
   "source": [
    "f = open(\"crime_rates.csv\", \"r\")\n",
    "data = f.read()\n",
    "print(data)"
   ]
  },
  {
   "cell_type": "code",
   "execution_count": 53,
   "metadata": {},
   "outputs": [
    {
     "name": "stdout",
     "output_type": "stream",
     "text": [
      "a \n",
      "b\n"
     ]
    }
   ],
   "source": [
    "print('a \\nb')"
   ]
  },
  {
   "cell_type": "code",
   "execution_count": 54,
   "metadata": {},
   "outputs": [
    {
     "name": "stdout",
     "output_type": "stream",
     "text": [
      "['Albuquerque,749', 'Anaheim,371', 'Anchorage,828', 'Arlington,503', 'Atlanta,1379']\n"
     ]
    }
   ],
   "source": [
    "rows = data.split('\\n')\n",
    "print(rows[0:5])"
   ]
  },
  {
   "cell_type": "markdown",
   "metadata": {},
   "source": [
    "### For Loop"
   ]
  },
  {
   "cell_type": "code",
   "execution_count": 55,
   "metadata": {},
   "outputs": [
    {
     "name": "stdout",
     "output_type": "stream",
     "text": [
      "Albuquerque,749\n",
      "Anaheim,371\n",
      "Anchorage,828\n",
      "Arlington,503\n",
      "Atlanta,1379\n",
      "Aurora,425\n",
      "Austin,408\n",
      "Bakersfield,542\n",
      "Baltimore,1405\n",
      "Boston,835\n"
     ]
    }
   ],
   "source": [
    "ten_rows = rows[0:10]\n",
    "for row in ten_rows:\n",
    "    print(row)"
   ]
  },
  {
   "cell_type": "code",
   "execution_count": 56,
   "metadata": {},
   "outputs": [
    {
     "name": "stdout",
     "output_type": "stream",
     "text": [
      "Albuquerque,749\n",
      "Anaheim,371\n",
      "Anchorage,828\n",
      "Arlington,503\n",
      "Atlanta,1379\n",
      "Aurora,425\n",
      "Austin,408\n",
      "Bakersfield,542\n",
      "Baltimore,1405\n",
      "Boston,835\n"
     ]
    }
   ],
   "source": [
    "for i in range(len(rows)):\n",
    "    print(rows[i])"
   ]
  },
  {
   "cell_type": "markdown",
   "metadata": {},
   "source": [
    "### Range\n",
    "\n",
    "Με την εντολή range μπορώ να έχω μία λίστα αριθμών με το εύρος και βήμα που ορίζω εγώ"
   ]
  },
  {
   "cell_type": "code",
   "execution_count": 57,
   "metadata": {},
   "outputs": [
    {
     "name": "stdout",
     "output_type": "stream",
     "text": [
      "0,1,2,3,4,5,6,7,8,9,"
     ]
    }
   ],
   "source": [
    "for i in range(10):\n",
    "    print(i,end=',')"
   ]
  },
  {
   "cell_type": "code",
   "execution_count": 58,
   "metadata": {},
   "outputs": [
    {
     "name": "stdout",
     "output_type": "stream",
     "text": [
      "5,6,7,8,9,"
     ]
    }
   ],
   "source": [
    "for j in range(5,10):\n",
    "    print(j,end=',')"
   ]
  },
  {
   "cell_type": "code",
   "execution_count": 59,
   "metadata": {},
   "outputs": [
    {
     "name": "stdout",
     "output_type": "stream",
     "text": [
      "0,2,4,6,8,"
     ]
    }
   ],
   "source": [
    "for k in range(0,10,2):\n",
    "    print(k,end=',')"
   ]
  },
  {
   "cell_type": "markdown",
   "metadata": {},
   "source": [
    "\n",
    "\n",
    "### Άσκηση\n",
    "\n",
    "Να βρεθεί ο 15ος αριθμός Fibonacci αν γνωρίζετε ότι ο 1ος και 2ος είναι ίσος με 1 και κάθε επόμενος προκύπτει από το άθροισμα των δύο προηγούμενων"
   ]
  },
  {
   "cell_type": "code",
   "execution_count": 61,
   "metadata": {},
   "outputs": [
    {
     "name": "stdout",
     "output_type": "stream",
     "text": [
      "2\n",
      "3\n",
      "5\n",
      "8\n",
      "13\n",
      "21\n",
      "34\n",
      "55\n",
      "89\n",
      "144\n",
      "233\n",
      "377\n",
      "610\n",
      "610\n"
     ]
    }
   ],
   "source": [
    "a1 = 1\n",
    "a2 = 1\n",
    "a3 = 0\n",
    "for i in range(2,15):\n",
    "    a3 = a1 + a2\n",
    "    print(a3)\n",
    "    a1 = a2\n",
    "    a2 = a3\n",
    "print(a3)"
   ]
  },
  {
   "cell_type": "markdown",
   "metadata": {},
   "source": [
    "### Υπολίστες"
   ]
  },
  {
   "cell_type": "code",
   "execution_count": 62,
   "metadata": {},
   "outputs": [
    {
     "name": "stdout",
     "output_type": "stream",
     "text": [
      "[['Albuquerque', '749'], ['Anaheim', '371'], ['Anchorage', '828'], ['Arlington', '503'], ['Atlanta', '1379']]\n"
     ]
    }
   ],
   "source": [
    "crimes = []\n",
    "for row in rows:\n",
    "    split_list = row.split(',')\n",
    "    crimes.append(split_list)\n",
    "print(crimes[:5])"
   ]
  },
  {
   "cell_type": "markdown",
   "metadata": {},
   "source": [
    "Η υπολίστα με την πόλη Atlanta είναι στη θέση 4. Οπότε αν θέλουμε να τυπώσουμε την τιμή 1379, πρέπει πρώτα να πάρουμε την υπολίστα και μετά το δεύτερο στοιχείο από αυτήν."
   ]
  },
  {
   "cell_type": "code",
   "execution_count": 63,
   "metadata": {},
   "outputs": [
    {
     "name": "stdout",
     "output_type": "stream",
     "text": [
      "Atlanta\n",
      "1379\n"
     ]
    }
   ],
   "source": [
    "print(crimes[4][0])\n",
    "print(crimes[4][1])"
   ]
  },
  {
   "cell_type": "markdown",
   "metadata": {},
   "source": [
    "### If statements\n",
    "\n",
    "Όταν θέλω να συγκρίνω δύο μεταβλητές, χρησιμοποιώ την If, else"
   ]
  },
  {
   "cell_type": "code",
   "execution_count": 65,
   "metadata": {},
   "outputs": [],
   "source": [
    "my_favourite_fruit = \"orange\"\n",
    "\n",
    "if my_favourite_fruit == \"apple\":\n",
    "    print('You are lucky')"
   ]
  },
  {
   "cell_type": "code",
   "execution_count": 66,
   "metadata": {},
   "outputs": [
    {
     "name": "stdout",
     "output_type": "stream",
     "text": [
      "Damn...\n"
     ]
    }
   ],
   "source": [
    "my_favourite_fruit = \"apple\"\n",
    "\n",
    "if my_favourite_fruit == \"orange\":\n",
    "    print('You are lucky')\n",
    "else:\n",
    "    print('Damn...')"
   ]
  },
  {
   "cell_type": "code",
   "execution_count": 67,
   "metadata": {},
   "outputs": [
    {
     "name": "stdout",
     "output_type": "stream",
     "text": [
      "Δυστυχώς ξανά προσπάθησε\n"
     ]
    }
   ],
   "source": [
    "grade = 65\n",
    "if grade > 90:\n",
    "    print('Well done')\n",
    "elif grade > 80:\n",
    "    print('Μπορείς και καλύτερα')\n",
    "elif grade > 70:\n",
    "    print('Θες βελτίωση')\n",
    "else:\n",
    "    print('Δυστυχώς ξανά προσπάθησε')"
   ]
  },
  {
   "cell_type": "markdown",
   "metadata": {},
   "source": [
    "### Άσκηση\n",
    "\n",
    "Να βρεθεί η πόλη με την μεγαλύτερη εγκληματικότητα. Προσοχή στους τύπους μεταβλητών!"
   ]
  },
  {
   "cell_type": "code",
   "execution_count": 68,
   "metadata": {},
   "outputs": [
    {
     "name": "stdout",
     "output_type": "stream",
     "text": [
      "Detroit 2122\n"
     ]
    }
   ],
   "source": [
    "max_crime = 0\n",
    "max_city = ''\n",
    "for row in rows:\n",
    "    city = row.split(',')\n",
    "    if int(city[1]) > max_crime:\n",
    "        max_crime = int(city[1])\n",
    "        max_city = city[0]\n",
    "print(max_city, max_crime)"
   ]
  },
  {
   "cell_type": "markdown",
   "metadata": {},
   "source": [
    "### Άσκηση\n",
    "\n",
    "1. Να βρεθεί dataset με όλες τις πόλεις και τον πληθυσμό τους\n",
    "2. Να βρεθεί η πόλη με τον μικρότερο πληθυσμό"
   ]
  },
  {
   "cell_type": "code",
   "execution_count": 69,
   "metadata": {},
   "outputs": [
    {
     "name": "stdout",
     "output_type": "stream",
     "text": [
      "Fortin Falcon -99.0\n"
     ]
    }
   ],
   "source": [
    "g = open(\"populations.csv\", \"r\", encoding=\"utf8\")\n",
    "data = g.read().split('\\n')\n",
    "smallest_city = ''\n",
    "smallest_pop = 9999999999999999\n",
    "for row in data[1:-2]:\n",
    "    city = row.split(',')\n",
    "    if float(city[4]) < smallest_pop:\n",
    "        smallest_pop = float(city[4])\n",
    "        smallest_city = city[0]\n",
    "print(smallest_city, smallest_pop)"
   ]
  },
  {
   "cell_type": "markdown",
   "metadata": {},
   "source": [
    "## Πικρή Αλήθεια\n",
    "\n",
    "Το μεγαλύτερο ποσοστό των dataset περιέχουν λάθη που πρέπει εμείς να βρούμε και να αποφασίσουμε τι θα τα κάνουμε :("
   ]
  },
  {
   "cell_type": "markdown",
   "metadata": {},
   "source": [
    "## Λεξικά\n",
    "\n",
    "Μια άλλη μορφή δεδομένων είναι τα Λεξικά (Dictionaries) και χρησιμοποιούνται για να βρίσκουμε εύκολα ένα αντικείμενο με βάση κάποιο κλειδί"
   ]
  },
  {
   "cell_type": "code",
   "execution_count": 71,
   "metadata": {},
   "outputs": [
    {
     "name": "stdout",
     "output_type": "stream",
     "text": [
      "{1: 'one', 'a_list': [1, 2, 3, 4], 'a_boolean': True, 'a_number': 5}\n",
      "True\n"
     ]
    }
   ],
   "source": [
    "dictionary = {}\n",
    "dictionary[1] = 'one'\n",
    "dictionary['a_list'] = [1,2,3,4]\n",
    "dictionary['a_boolean'] = True\n",
    "dictionary['a_number'] = 5\n",
    "print(dictionary)\n",
    "print(dictionary['a_boolean'])"
   ]
  },
  {
   "cell_type": "code",
   "execution_count": 72,
   "metadata": {},
   "outputs": [
    {
     "data": {
      "text/plain": [
       "[('Newark', '1154'),\n",
       " ('Philadelphia', '1160'),\n",
       " ('Toledo', '1171'),\n",
       " ('Miami', '1172'),\n",
       " ('Washington', '1177'),\n",
       " ('Indianapolis', '1185'),\n",
       " ('Nashville', '1216'),\n",
       " ('Kansas City', '1263'),\n",
       " ('Buffalo', '1288'),\n",
       " ('Milwaukee', '1294'),\n",
       " ('Plano', '130'),\n",
       " ('Atlanta', '1379'),\n",
       " ('Cleveland', '1383'),\n",
       " ('Baltimore', '1405'),\n",
       " ('Stockton', '1548'),\n",
       " ('Henderson', '168'),\n",
       " ('Virginia Beach', '169'),\n",
       " ('Memphis', '1750'),\n",
       " ('St. Louis', '1776'),\n",
       " ('Oakland', '1993'),\n",
       " ('Detroit', '2122'),\n",
       " ('Lexington', '352'),\n",
       " ('Fort Wayne', '362'),\n",
       " ('San Jose', '363'),\n",
       " ('Anaheim', '371'),\n",
       " ('Lincoln', '397'),\n",
       " ('Mesa', '399'),\n",
       " ('Santa Ana', '401'),\n",
       " ('Austin', '408'),\n",
       " ('San Diego', '413'),\n",
       " ('El Paso', '423'),\n",
       " ('Raleigh', '423'),\n",
       " ('Aurora', '425'),\n",
       " ('Riverside', '443'),\n",
       " ('Colorado Springs', '455'),\n",
       " ('Los Angeles', '481'),\n",
       " ('Arlington', '503'),\n",
       " ('San Antonio', '503'),\n",
       " ('Portland', '517'),\n",
       " ('Mobile', '522'),\n",
       " ('Bakersfield', '542'),\n",
       " ('Fresno', '543'),\n",
       " ('Greensboro', '563'),\n",
       " ('Long Beach', '575'),\n",
       " ('Fort Worth', '587'),\n",
       " ('Omaha', '594'),\n",
       " ('Seattle', '597'),\n",
       " ('Louisville Metro', '598'),\n",
       " ('Denver', '615'),\n",
       " ('Tampa', '616'),\n",
       " ('Jacksonville', '617'),\n",
       " ('Phoenix', '636'),\n",
       " ('New York', '639'),\n",
       " ('Charlotte-Mecklenburg', '647'),\n",
       " ('Corpus Christi', '658'),\n",
       " ('Dallas', '675'),\n",
       " ('San Francisco', '704'),\n",
       " ('St. Paul', '722'),\n",
       " ('Tucson', '724'),\n",
       " ('Jersey City', '734'),\n",
       " ('Sacramento', '738'),\n",
       " ('Wichita', '742'),\n",
       " ('Albuquerque', '749'),\n",
       " ('Pittsburgh', '752'),\n",
       " ('Las Vegas', '784'),\n",
       " ('New Orleans', '815'),\n",
       " ('Anchorage', '828'),\n",
       " ('Boston', '835'),\n",
       " ('Oklahoma City', '919'),\n",
       " ('Cincinnati', '974'),\n",
       " ('Tulsa', '990'),\n",
       " ('Houston', '992'),\n",
       " ('Minneapolis', '992')]"
      ]
     },
     "execution_count": 72,
     "metadata": {},
     "output_type": "execute_result"
    }
   ],
   "source": [
    "f = open(\"crime_rates.csv\", \"r\")\n",
    "data = f.read().split('\\n')\n",
    "cities = {}\n",
    "for row in data:\n",
    "    city = row.split(',')\n",
    "    cities[city[0]] = city[1]\n",
    "    \n",
    "sorted(cities.items(), key=lambda x:x[1])"
   ]
  },
  {
   "cell_type": "code",
   "execution_count": 73,
   "metadata": {},
   "outputs": [
    {
     "name": "stdout",
     "output_type": "stream",
     "text": [
      "835\n"
     ]
    }
   ],
   "source": [
    "'Boston' in cities\n",
    "print(cities['Boston'])"
   ]
  },
  {
   "cell_type": "code",
   "execution_count": 75,
   "metadata": {},
   "outputs": [
    {
     "ename": "KeyError",
     "evalue": "'Thessaloniki'",
     "output_type": "error",
     "traceback": [
      "\u001b[0;31m---------------------------------------------------------------------------\u001b[0m",
      "\u001b[0;31mKeyError\u001b[0m                                  Traceback (most recent call last)",
      "\u001b[0;32m<ipython-input-75-f26b862bbb9e>\u001b[0m in \u001b[0;36m<module>\u001b[0;34m()\u001b[0m\n\u001b[1;32m      1\u001b[0m \u001b[0;34m'Thessaloniki'\u001b[0m \u001b[0;32min\u001b[0m \u001b[0mcities\u001b[0m\u001b[0;34m\u001b[0m\u001b[0m\n\u001b[0;32m----> 2\u001b[0;31m \u001b[0mprint\u001b[0m\u001b[0;34m(\u001b[0m\u001b[0mcities\u001b[0m\u001b[0;34m[\u001b[0m\u001b[0;34m'Thessaloniki'\u001b[0m\u001b[0;34m]\u001b[0m\u001b[0;34m)\u001b[0m\u001b[0;34m\u001b[0m\u001b[0m\n\u001b[0m",
      "\u001b[0;31mKeyError\u001b[0m: 'Thessaloniki'"
     ]
    }
   ],
   "source": [
    "'Thessaloniki' in cities\n",
    "print(cities['Thessaloniki'])"
   ]
  },
  {
   "cell_type": "code",
   "execution_count": 76,
   "metadata": {},
   "outputs": [
    {
     "name": "stdout",
     "output_type": "stream",
     "text": [
      "{1: 1, 5: 3, 2: 3, 6: 4, 7: 1, 3: 3, 4: 4, 8: 3, 9: 3}\n"
     ]
    }
   ],
   "source": [
    "the_list = [1,5,2,6,7,3,2,4,6,8,9,3,2,6,8,9,5,4,3,4,6,8,9,5,4]\n",
    "numbers = {}\n",
    "for i in the_list:\n",
    "    if i in numbers:\n",
    "        numbers[i] += 1\n",
    "    else:\n",
    "        numbers[i] = 1\n",
    "print(numbers)"
   ]
  },
  {
   "cell_type": "markdown",
   "metadata": {},
   "source": [
    "## Συναρτήσεις\n",
    "\n",
    "Πάντα προσπαθούμε να σπάσουμε τον κώδικά μας σε συναρτήσεις. Όσο μεγαλώνει το project, θα γίνεται όλο και πιο δύσκολη η συντήρηση και οι αλλαγές που θα θέλουμε να κάνουμε."
   ]
  },
  {
   "cell_type": "code",
   "execution_count": null,
   "metadata": {},
   "outputs": [],
   "source": [
    "def my_function(a, b = 5):\n",
    "    if a > 0:\n",
    "        b = a + b\n",
    "    else:\n",
    "        b = -3 * a + b\n",
    "    return b\n",
    "\n",
    "r1 = my_function(5)\n",
    "r2 = my_function(-5)\n",
    "r3 = my_function(5,10)\n",
    "print(r1, r2, r3)"
   ]
  },
  {
   "cell_type": "markdown",
   "metadata": {},
   "source": [
    "### Άσκηση\n",
    "\n",
    "Να γραφτεί συνάρτηση που θα δέχεται λίστα και θα επιστρέφει το μέγιστο. Για ευκολία, θεωρούμε ότι η λίστα θα περιέχει μόνο αριθμούς."
   ]
  },
  {
   "cell_type": "code",
   "execution_count": null,
   "metadata": {},
   "outputs": [],
   "source": [
    "#Λύση"
   ]
  },
  {
   "cell_type": "markdown",
   "metadata": {},
   "source": [
    "## Επαναληπτική άσκηση\n",
    "\n",
    "1. Διαβάζουμε το αρχείο births.csv\n",
    "2. Το φέρνουμε σε μορφή list of lists\n",
    "3. Ποια ήταν η χρονιά με τις περισσότερες γέννες;\n",
    "4. Ποια είναι η κατανομή γεννών ανά μήνα;\n",
    "\n",
    "Για το 4, το επιθυμητό αποτέλεσμα είναι:\n",
    "\n",
    "January: 15%\n",
    "February: 8%\n",
    "March: 7%\n",
    "...\n",
    "..."
   ]
  },
  {
   "cell_type": "code",
   "execution_count": null,
   "metadata": {},
   "outputs": [],
   "source": []
  }
 ],
 "metadata": {
  "kernelspec": {
   "display_name": "Python 3",
   "language": "python",
   "name": "python3"
  },
  "language_info": {
   "codemirror_mode": {
    "name": "ipython",
    "version": 3
   },
   "file_extension": ".py",
   "mimetype": "text/x-python",
   "name": "python",
   "nbconvert_exporter": "python",
   "pygments_lexer": "ipython3",
   "version": "3.6.3"
  }
 },
 "nbformat": 4,
 "nbformat_minor": 2
}
