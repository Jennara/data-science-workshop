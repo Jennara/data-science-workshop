{
 "cells": [
  {
   "cell_type": "code",
   "execution_count": null,
   "metadata": {},
   "outputs": [],
   "source": [
    "import requests\n",
    "response = requests.get(\"http://books.toscrape.com/catalogue/page-1.html\")\n",
    "content = response.content\n",
    "#print(content)"
   ]
  },
  {
   "cell_type": "code",
   "execution_count": null,
   "metadata": {},
   "outputs": [],
   "source": [
    "from bs4 import BeautifulSoup\n",
    "\n",
    "parser = BeautifulSoup(content, 'html.parser')\n",
    "\n",
    "body = parser.body\n",
    "header = body.header\n",
    "print(header)"
   ]
  },
  {
   "cell_type": "code",
   "execution_count": null,
   "metadata": {},
   "outputs": [],
   "source": [
    "subtitle = header.div.div.div.small\n",
    "print(subtitle.text)"
   ]
  },
  {
   "cell_type": "code",
   "execution_count": null,
   "metadata": {},
   "outputs": [],
   "source": [
    "body = parser.find_all(\"body\")\n",
    "header = body[0].find_all(\"header\")\n",
    "div = header[0].find_all('div')\n",
    "print(div)\n",
    "div[2].find('small').text"
   ]
  },
  {
   "cell_type": "code",
   "execution_count": null,
   "metadata": {},
   "outputs": [],
   "source": [
    "div = parser.find_all(\"div\", {'class':\"col-sm-8 h1\"})[0]\n",
    "print(div.small.text)"
   ]
  },
  {
   "cell_type": "code",
   "execution_count": null,
   "metadata": {},
   "outputs": [],
   "source": [
    "sidebar = parser.find_all('div', {'class': 'side_categories'})\n",
    "menu = sidebar[0].ul.li\n",
    "categories = menu.ul.find_all('li')\n",
    "for cat in categories:\n",
    "    print(cat.a.text.strip())"
   ]
  },
  {
   "cell_type": "markdown",
   "metadata": {},
   "source": [
    "### Άσκηση\n",
    "\n",
    "Να γίνουν scrap όλοι οι τίτλοι με τις τιμές που βρίσκονται στην πρώτη σελίδα"
   ]
  },
  {
   "cell_type": "code",
   "execution_count": null,
   "metadata": {},
   "outputs": [],
   "source": [
    "#λύση"
   ]
  },
  {
   "cell_type": "markdown",
   "metadata": {},
   "source": [
    "### Get class name"
   ]
  },
  {
   "cell_type": "code",
   "execution_count": null,
   "metadata": {},
   "outputs": [],
   "source": [
    "stars = parser.find_all('p', {'class': 'star-rating'})\n",
    "stars[0]['class']"
   ]
  },
  {
   "cell_type": "markdown",
   "metadata": {},
   "source": [
    "### Page navigation\n",
    "\n",
    "- http://books.toscrape.com/catalogue/category/books_1/page-2.html\n",
    "- http://books.toscrape.com/catalogue/category/books_1/page-3.html\n",
    "- http://books.toscrape.com/catalogue/category/books_1/page-4.html\n",
    "\n",
    "Πως μπορούμε να πάρουμε όλα τα βιβλία από όλες τις σελίδες;"
   ]
  },
  {
   "cell_type": "markdown",
   "metadata": {},
   "source": [
    "### Άσκηση\n",
    "\n",
    "1. Να φτιάξετε ένα pandas dataframe με όλα τα βιβλία από όλες τις σελίδες, όπου οι στήλες θα είναι Όνομα, Τιμή, Διαθεσιμότητα, Βαθμολογία\n",
    "2. Να βρείτε τη μέση τιμή της βαθμολογίας και της τιμής\n",
    "3. Να τυπώσετε όλα τα βιβλία με 1 αστέρι βαθμολογία\n",
    "\n",
    "tip: df = pd.DataFrame(list_of_lists, columns=list_with_headers)"
   ]
  },
  {
   "cell_type": "code",
   "execution_count": null,
   "metadata": {},
   "outputs": [],
   "source": []
  }
 ],
 "metadata": {
  "kernelspec": {
   "display_name": "Python 3",
   "language": "python",
   "name": "python3"
  },
  "language_info": {
   "codemirror_mode": {
    "name": "ipython",
    "version": 3
   },
   "file_extension": ".py",
   "mimetype": "text/x-python",
   "name": "python",
   "nbconvert_exporter": "python",
   "pygments_lexer": "ipython3",
   "version": "3.6.3"
  }
 },
 "nbformat": 4,
 "nbformat_minor": 2
}
